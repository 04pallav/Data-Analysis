{
 "cells": [
  {
   "cell_type": "code",
   "execution_count": 25,
   "metadata": {
    "collapsed": false,
    "hideCode": false,
    "hidePrompt": false
   },
   "outputs": [
    {
     "name": "stderr",
     "output_type": "stream",
     "text": [
      "ERROR:root:Line magic function `%autoreload` not found.\n"
     ]
    },
    {
     "ename": "ImportError",
     "evalue": "cannot import name 'training_curves'",
     "output_type": "error",
     "traceback": [
      "\u001b[0;31m---------------------------------------------------------------------------\u001b[0m",
      "\u001b[0;31mImportError\u001b[0m                               Traceback (most recent call last)",
      "\u001b[0;32m<ipython-input-25-1d7d92f0ac4a>\u001b[0m in \u001b[0;36m<module>\u001b[0;34m()\u001b[0m\n\u001b[1;32m     19\u001b[0m \u001b[1;32mfrom\u001b[0m \u001b[0mimportlib\u001b[0m \u001b[1;32mimport\u001b[0m \u001b[0mreload\u001b[0m\u001b[1;33m\u001b[0m\u001b[0m\n\u001b[1;32m     20\u001b[0m \u001b[1;33m\u001b[0m\u001b[0m\n\u001b[0;32m---> 21\u001b[0;31m \u001b[1;32mfrom\u001b[0m \u001b[0mmodel_utilities\u001b[0m \u001b[1;32mimport\u001b[0m \u001b[0mget_features_labels\u001b[0m\u001b[1;33m,\u001b[0m \u001b[0mtrain_random_forest\u001b[0m\u001b[1;33m,\u001b[0m \u001b[0mmape\u001b[0m\u001b[1;33m,\u001b[0m \u001b[0mcomplete_model\u001b[0m\u001b[1;33m,\u001b[0m \u001b[0mpredict_mid\u001b[0m\u001b[1;33m,\u001b[0m \u001b[0mtraining_curves\u001b[0m\u001b[1;33m\u001b[0m\u001b[0m\n\u001b[0m",
      "\u001b[0;31mImportError\u001b[0m: cannot import name 'training_curves'"
     ]
    }
   ],
   "source": [
    "%autoreload\n",
    "import pandas as pd\n",
    "import numpy as np\n",
    "import os\n",
    "import re\n",
    "from sklearn.preprocessing import MinMaxScaler\n",
    "from sklearn.model_selection import train_test_split\n",
    "from sklearn.linear_model import LinearRegression\n",
    "from sklearn.metrics import mean_squared_error\n",
    "from sklearn.metrics import r2_score\n",
    "from sklearn.ensemble import RandomForestRegressor\n",
    "from sklearn.model_selection import RandomizedSearchCV\n",
    "from sklearn.model_selection import GridSearchCV\n",
    "from sklearn.svm import SVR\n",
    "from dateutil import parser\n",
    "from tpot import TPOTRegressor\n",
    "import tensorflow as tf\n",
    "import feather\n",
    "from importlib import reload\n",
    "\n",
    "from model_utilities import get_features_labels, train_random_forest, mape, complete_model, predict_mid, training_curves"
   ]
  },
  {
   "cell_type": "code",
   "execution_count": 3,
   "metadata": {
    "collapsed": true
   },
   "outputs": [],
   "source": [
    "building_name = 'SRP'\n",
    "filepath = ('python_data/f-%s_weather.csv' % building_name)"
   ]
  },
  {
   "cell_type": "code",
   "execution_count": 41,
   "metadata": {
    "collapsed": false
   },
   "outputs": [
    {
     "name": "stdout",
     "output_type": "stream",
     "text": [
      "The autoreload extension is already loaded. To reload it, use:\n",
      "  %reload_ext autoreload\n"
     ]
    }
   ],
   "source": [
    "%load_ext autoreload"
   ]
  },
  {
   "cell_type": "code",
   "execution_count": 31,
   "metadata": {
    "collapsed": false
   },
   "outputs": [
    {
     "name": "stdout",
     "output_type": "stream",
     "text": [
      "['num_time', 'ghi', 'dif', 'gti', 'temp', 'rh', 'pwat', 'ws', 'month', 'day', 'season_day', 'sun_rise_set_rise', 'sun_rise_set_set', 'biz_day_0', 'biz_day_1', 'day_of_week_Fri', 'day_of_week_Mon', 'day_of_week_Sat', 'day_of_week_Sun', 'day_of_week_Thu', 'day_of_week_Tue', 'day_of_week_Wed', 'week_day_end_day', 'week_day_end_end']\n",
      "[  5.80290110e-01   2.24371309e-02   6.17855510e-03   4.24810099e-03\n",
      "   1.87990987e-01   1.80291321e-02   1.44320071e-02   8.76101565e-03\n",
      "   1.96554421e-03   1.00392873e-02   2.87588359e-02   9.45170170e-05\n",
      "   9.80300019e-05   3.42010004e-02   4.81213621e-02   1.11294476e-03\n",
      "   2.23757355e-03   2.22990661e-04   2.00308580e-04   6.72324939e-04\n",
      "   1.12011017e-03   1.20468723e-03   1.72157235e-02   1.03677212e-02]\n",
      "24\n",
      "24\n"
     ]
    }
   ],
   "source": [
    "%autoreload\n",
    "results_df, predictions_df, features_df = complete_model(filepath)"
   ]
  },
  {
   "cell_type": "code",
   "execution_count": 56,
   "metadata": {
    "collapsed": false
   },
   "outputs": [],
   "source": [
    "feather.write_dataframe(results_df, (\"feather/%s_season_performance_metrics.feather\" % building_name))\n",
    "feather.write_dataframe(predictions_df, (\"feather/%s_season_predictions.feather\" % building_name))\n",
    "feather.write_dataframe(features_df, (\"feather/%s_feature_importances.feather\" % building_name))"
   ]
  },
  {
   "cell_type": "code",
   "execution_count": 52,
   "metadata": {
    "collapsed": false
   },
   "outputs": [],
   "source": [
    "%autoreload\n",
    "mid_df, metrics_mid_df = predict_mid(filepath)"
   ]
  },
  {
   "cell_type": "code",
   "execution_count": 57,
   "metadata": {
    "collapsed": false
   },
   "outputs": [],
   "source": [
    "feather.write_dataframe(metrics_mid_df, (\"feather/%s_mid_performance_metrics.feather\" % building_name))\n",
    "feather.write_dataframe(mid_df, (\"feather/%s_mid.feather\" % building_name))"
   ]
  },
  {
   "cell_type": "code",
   "execution_count": 55,
   "metadata": {
    "collapsed": false
   },
   "outputs": [
    {
     "data": {
      "text/html": [
       "<div>\n",
       "<style>\n",
       "    .dataframe thead tr:only-child th {\n",
       "        text-align: right;\n",
       "    }\n",
       "\n",
       "    .dataframe thead th {\n",
       "        text-align: left;\n",
       "    }\n",
       "\n",
       "    .dataframe tbody tr th {\n",
       "        vertical-align: top;\n",
       "    }\n",
       "</style>\n",
       "<table border=\"1\" class=\"dataframe\">\n",
       "  <thead>\n",
       "    <tr style=\"text-align: right;\">\n",
       "      <th></th>\n",
       "      <th>season</th>\n",
       "      <th>rmse</th>\n",
       "      <th>rsquared</th>\n",
       "      <th>mape</th>\n",
       "    </tr>\n",
       "  </thead>\n",
       "  <tbody>\n",
       "    <tr>\n",
       "      <th>0</th>\n",
       "      <td>spring</td>\n",
       "      <td>4.393270</td>\n",
       "      <td>0.844820</td>\n",
       "      <td>8.085962</td>\n",
       "    </tr>\n",
       "    <tr>\n",
       "      <th>1</th>\n",
       "      <td>summer</td>\n",
       "      <td>4.871096</td>\n",
       "      <td>0.891920</td>\n",
       "      <td>7.358376</td>\n",
       "    </tr>\n",
       "    <tr>\n",
       "      <th>2</th>\n",
       "      <td>fall</td>\n",
       "      <td>4.897169</td>\n",
       "      <td>0.820545</td>\n",
       "      <td>8.445955</td>\n",
       "    </tr>\n",
       "    <tr>\n",
       "      <th>3</th>\n",
       "      <td>winter</td>\n",
       "      <td>6.930595</td>\n",
       "      <td>0.622965</td>\n",
       "      <td>11.461733</td>\n",
       "    </tr>\n",
       "  </tbody>\n",
       "</table>\n",
       "</div>"
      ],
      "text/plain": [
       "   season      rmse  rsquared       mape\n",
       "0  spring  4.393270  0.844820   8.085962\n",
       "1  summer  4.871096  0.891920   7.358376\n",
       "2    fall  4.897169  0.820545   8.445955\n",
       "3  winter  6.930595  0.622965  11.461733"
      ]
     },
     "execution_count": 55,
     "metadata": {},
     "output_type": "execute_result"
    }
   ],
   "source": [
    "metrics_mid_df\n",
    "# mid_df[mid_df['summer'] != 0]"
   ]
  },
  {
   "cell_type": "code",
   "execution_count": null,
   "metadata": {
    "collapsed": false
   },
   "outputs": [],
   "source": [
    "results = np.array([])\n",
    "for index, name in enumerate(['then', 'then']):\n",
    "    print(index)\n",
    "    results = results +  [2, 4]\n",
    "\n",
    "results"
   ]
  },
  {
   "cell_type": "code",
   "execution_count": 21,
   "metadata": {
    "collapsed": false
   },
   "outputs": [],
   "source": [
    "d = {'col1': [2,3], 'col2': ['this', 'that']}\n",
    "df = pd.DataFrame(data=d)"
   ]
  },
  {
   "cell_type": "code",
   "execution_count": 22,
   "metadata": {
    "collapsed": false
   },
   "outputs": [
    {
     "data": {
      "text/html": [
       "<div>\n",
       "<style>\n",
       "    .dataframe thead tr:only-child th {\n",
       "        text-align: right;\n",
       "    }\n",
       "\n",
       "    .dataframe thead th {\n",
       "        text-align: left;\n",
       "    }\n",
       "\n",
       "    .dataframe tbody tr th {\n",
       "        vertical-align: top;\n",
       "    }\n",
       "</style>\n",
       "<table border=\"1\" class=\"dataframe\">\n",
       "  <thead>\n",
       "    <tr style=\"text-align: right;\">\n",
       "      <th></th>\n",
       "      <th>col1</th>\n",
       "      <th>col2</th>\n",
       "    </tr>\n",
       "  </thead>\n",
       "  <tbody>\n",
       "    <tr>\n",
       "      <th>0</th>\n",
       "      <td>2</td>\n",
       "      <td>this</td>\n",
       "    </tr>\n",
       "    <tr>\n",
       "      <th>1</th>\n",
       "      <td>3</td>\n",
       "      <td>that</td>\n",
       "    </tr>\n",
       "  </tbody>\n",
       "</table>\n",
       "</div>"
      ],
      "text/plain": [
       "   col1  col2\n",
       "0     2  this\n",
       "1     3  that"
      ]
     },
     "execution_count": 22,
     "metadata": {},
     "output_type": "execute_result"
    }
   ],
   "source": [
    "df"
   ]
  },
  {
   "cell_type": "code",
   "execution_count": null,
   "metadata": {
    "collapsed": false
   },
   "outputs": [],
   "source": [
    "feather.write_dataframe(predictions_df, ('%s_predictions.feather' % 'srp'))"
   ]
  },
  {
   "cell_type": "code",
   "execution_count": null,
   "metadata": {
    "collapsed": true
   },
   "outputs": [],
   "source": [
    "# Parameter grid for search\n",
    "rf_parameters = {\n",
    "    'max_features': ['auto', 0.25, 0.5, 0.75],\n",
    "    'n_estimators': [50, 100, 150, 200],\n",
    "    'max_depth': [None, 10, 20, 40],\n",
    "    'min_samples_split': [2, 4, 8]\n",
    "}\n",
    "\n",
    "# Model for searching\n",
    "rf_model = RandomForestRegressor()\n",
    "\n",
    "# Random search instantiation\n",
    "rf_grid_search = GridSearchCV(rf_model, rf_parameters, scoring = 'r2', cv = 2, n_jobs = -1, verbose = 2)"
   ]
  },
  {
   "cell_type": "code",
   "execution_count": null,
   "metadata": {
    "collapsed": false
   },
   "outputs": [],
   "source": [
    "# Read in dataframe\n",
    "srp_df = pd.read_csv('python_data/f-SRP_weather.csv')\n",
    "\n",
    "# Extract training and testing features and labels\n",
    "X, y = get_features_labels(srp_df, season = 'summer')\n",
    "X_train, X_test, y_train, y_test = train_test_split(X, y, test_size = 0.3)\n",
    "\n",
    "# Train the random search and print all the results\n",
    "rf_grid_search.fit(X_train, y_train)\n",
    "rf_grid_search.cv_results_"
   ]
  },
  {
   "cell_type": "code",
   "execution_count": null,
   "metadata": {
    "collapsed": false
   },
   "outputs": [],
   "source": [
    "rf_grid_search.best_estimator_"
   ]
  },
  {
   "cell_type": "code",
   "execution_count": null,
   "metadata": {
    "collapsed": false
   },
   "outputs": [],
   "source": [
    "predictions = rf_grid_search.predict(X_test)\n",
    "rsquared = r2_score(y_test, predictions)\n",
    "print('r squared with best estimator {:.4f}'.format(rsquared))"
   ]
  },
  {
   "cell_type": "code",
   "execution_count": null,
   "metadata": {
    "collapsed": false
   },
   "outputs": [],
   "source": [
    "rf_parameters = {\n",
    "    'max_features': [0.5, 0.75],\n",
    "    'n_estimators': [200, 250, 300],\n",
    "    'max_depth': [20, 40],\n",
    "    'min_samples_split': [2]\n",
    "}\n",
    "\n",
    "rf_model = RandomForestRegressor()\n",
    "rf_grid_search = GridSearchCV(rf_model, rf_parameters, scoring = 'r2', cv = 2, n_jobs = -1, verbose = 2)\n",
    "\n",
    "rf_grid_search.fit(X_train, y_train)\n",
    "rf_grid_search.cv_results_"
   ]
  },
  {
   "cell_type": "code",
   "execution_count": null,
   "metadata": {
    "collapsed": false
   },
   "outputs": [],
   "source": [
    "predictions = rf_grid_search.predict(X_test)\n",
    "rsquared = r2_score(y_test, predictions)\n",
    "print('r squared with best estimator {:.4f}'.format(rsquared))"
   ]
  },
  {
   "cell_type": "code",
   "execution_count": null,
   "metadata": {
    "collapsed": false
   },
   "outputs": [],
   "source": [
    "rf_grid_search.best_estimator_"
   ]
  },
  {
   "cell_type": "code",
   "execution_count": null,
   "metadata": {
    "collapsed": false
   },
   "outputs": [],
   "source": [
    "rf_grid_search.best_params_"
   ]
  },
  {
   "cell_type": "code",
   "execution_count": null,
   "metadata": {
    "collapsed": false
   },
   "outputs": [],
   "source": [
    "import os\n",
    "os.getcwd()"
   ]
  },
  {
   "cell_type": "code",
   "execution_count": 5,
   "metadata": {
    "collapsed": false
   },
   "outputs": [],
   "source": [
    "import random\n",
    "\n",
    "\n",
    "X_train, X_test, y_train, y_test = train_test_split(X, y, test_size = 0.3)"
   ]
  },
  {
   "cell_type": "code",
   "execution_count": 23,
   "metadata": {
    "collapsed": false
   },
   "outputs": [
    {
     "name": "stdout",
     "output_type": "stream",
     "text": [
      "spring\n",
      "Halfway there!\n",
      "summer\n",
      "Halfway there!\n",
      "fall\n",
      "Halfway there!\n",
      "winter\n",
      "Halfway there!\n"
     ]
    }
   ],
   "source": [
    "df = pd.read_csv(filepath)\n",
    "X, y = get_features_labels(df, season = 'summer')\n",
    "\n",
    "results_df = pd.DataFrame(columns = ['season', 'set', 'rmse', 'rsquared', 'mape_result', \n",
    "                                     'fraction', 'train_points', 'test_points'])\n",
    "\n",
    "index = 0\n",
    "seasons = ['spring', 'summer', 'fall', 'winter']\n",
    "\n",
    "# Iterate through seasons for 20 different lengths of training data\n",
    "for season in seasons:\n",
    "    print(season)\n",
    "    X, y = get_features_labels(df, season = season)\n",
    "\n",
    "    for fraction in np.arange(0.05, 1.05, 0.05):\n",
    "        if fraction == 0.55:\n",
    "            print('Halfway there!')\n",
    "\n",
    "        sample = np.random.permutation(len(X))\n",
    "        # Length based on i from 0.05 to 1.00 in 0.05 increments\n",
    "        subset_length = int(fraction * len(X))\n",
    "\n",
    "        # Each time the X and y are randomly mixed and then subsetted\n",
    "        X_mixed, y_mixed = X[sample][:subset_length], y[sample][:subset_length]\n",
    "\n",
    "        # Train test split on the subset with the appropriate test size\n",
    "        X_train_subset, X_test, y_train_subset, y_test = train_test_split(X_mixed, y_mixed, test_size = 0.3)\n",
    "\n",
    "        # Length of training and testing datasets\n",
    "        train_length = len(X_train_subset)\n",
    "        test_length = len(X_test)\n",
    "\n",
    "        # Create and train the model\n",
    "        model = RandomForestRegressor(n_estimators = 200, max_depth = 40)\n",
    "        model.fit(X_train_subset, y_train_subset)\n",
    "\n",
    "        # Predict on the test data and evaluate training performance\n",
    "        train_predictions = model.predict(X_train_subset)\n",
    "        train_rmse = np.sqrt(mean_squared_error(y_train_subset, train_predictions))\n",
    "        train_rsquared = r2_score(y_train_subset,  train_predictions)\n",
    "        train_mape = mape(y_train_subset, train_predictions)\n",
    "        train_length = len(X_train_subset)\n",
    "\n",
    "        # Add training results to dataframe\n",
    "        results_df.loc[index] = [season, 'train', train_rmse, \n",
    "        train_rsquared, train_mape, fraction, train_length, test_length]\n",
    "\n",
    "        # Increment dataframe index\n",
    "        index += 1\n",
    "\n",
    "        # Predict on the test data and evaluate test performance\n",
    "        test_predictions = model.predict(X_test)\n",
    "        test_rmse = np.sqrt(mean_squared_error(y_test, test_predictions))\n",
    "        test_rsquared = r2_score(y_test, test_predictions)\n",
    "        test_mape = mape(y_test, test_predictions)\n",
    "        test_length = len(X_test)\n",
    "\n",
    "        # Add test results to dataframe\n",
    "        results_df.loc[index] = [season, 'test', test_rmse, test_rsquared,\n",
    "        test_mape, fraction, train_length, test_length]\n",
    "\n",
    "        # Increment dataframe index\n",
    "        index += 1"
   ]
  },
  {
   "cell_type": "code",
   "execution_count": 37,
   "metadata": {
    "collapsed": false
   },
   "outputs": [],
   "source": [
    "train_floats = [float(points) for points in results_df['train_points']]\n",
    "test_floats = [float(points) for points in results_df['test_points']]\n",
    "results_df['train_points'] = train_floats\n",
    "results_df['test_points'] = test_floats"
   ]
  },
  {
   "cell_type": "code",
   "execution_count": 38,
   "metadata": {
    "collapsed": false
   },
   "outputs": [
    {
     "data": {
      "text/plain": [
       "[610.0,\n",
       " 610.0,\n",
       " 1221.0,\n",
       " 1221.0,\n",
       " 1831.0,\n",
       " 1831.0,\n",
       " 2443.0,\n",
       " 2443.0,\n",
       " 3053.0,\n",
       " 3053.0,\n",
       " 3664.0,\n",
       " 3664.0,\n",
       " 4274.0,\n",
       " 4274.0,\n",
       " 4886.0,\n",
       " 4886.0,\n",
       " 5496.0,\n",
       " 5496.0,\n",
       " 6107.0,\n",
       " 6107.0,\n",
       " 6717.0,\n",
       " 6717.0,\n",
       " 7329.0,\n",
       " 7329.0,\n",
       " 7939.0,\n",
       " 7939.0,\n",
       " 8550.0,\n",
       " 8550.0,\n",
       " 9160.0,\n",
       " 9160.0,\n",
       " 9772.0,\n",
       " 9772.0,\n",
       " 10382.0,\n",
       " 10382.0,\n",
       " 10993.0,\n",
       " 10993.0,\n",
       " 11603.0,\n",
       " 11603.0,\n",
       " 12215.0,\n",
       " 12215.0,\n",
       " 618.0,\n",
       " 618.0,\n",
       " 1236.0,\n",
       " 1236.0,\n",
       " 1854.0,\n",
       " 1854.0,\n",
       " 2472.0,\n",
       " 2472.0,\n",
       " 3091.0,\n",
       " 3091.0,\n",
       " 3709.0,\n",
       " 3709.0,\n",
       " 4327.0,\n",
       " 4327.0,\n",
       " 4945.0,\n",
       " 4945.0,\n",
       " 5563.0,\n",
       " 5563.0,\n",
       " 6182.0,\n",
       " 6182.0,\n",
       " 6800.0,\n",
       " 6800.0,\n",
       " 7418.0,\n",
       " 7418.0,\n",
       " 8036.0,\n",
       " 8036.0,\n",
       " 8654.0,\n",
       " 8654.0,\n",
       " 9273.0,\n",
       " 9273.0,\n",
       " 9891.0,\n",
       " 9891.0,\n",
       " 10509.0,\n",
       " 10509.0,\n",
       " 11127.0,\n",
       " 11127.0,\n",
       " 11746.0,\n",
       " 11746.0,\n",
       " 12364.0,\n",
       " 12364.0,\n",
       " 611.0,\n",
       " 611.0,\n",
       " 1223.0,\n",
       " 1223.0,\n",
       " 1835.0,\n",
       " 1835.0,\n",
       " 2447.0,\n",
       " 2447.0,\n",
       " 3059.0,\n",
       " 3059.0,\n",
       " 3670.0,\n",
       " 3670.0,\n",
       " 4282.0,\n",
       " 4282.0,\n",
       " 4894.0,\n",
       " 4894.0,\n",
       " 5506.0,\n",
       " 5506.0,\n",
       " 6118.0,\n",
       " 6118.0,\n",
       " 6729.0,\n",
       " 6729.0,\n",
       " 7341.0,\n",
       " 7341.0,\n",
       " 7953.0,\n",
       " 7953.0,\n",
       " 8565.0,\n",
       " 8565.0,\n",
       " 9177.0,\n",
       " 9177.0,\n",
       " 9788.0,\n",
       " 9788.0,\n",
       " 10400.0,\n",
       " 10400.0,\n",
       " 11012.0,\n",
       " 11012.0,\n",
       " 11624.0,\n",
       " 11624.0,\n",
       " 12236.0,\n",
       " 12236.0,\n",
       " 607.0,\n",
       " 607.0,\n",
       " 1215.0,\n",
       " 1215.0,\n",
       " 1824.0,\n",
       " 1824.0,\n",
       " 2432.0,\n",
       " 2432.0,\n",
       " 3040.0,\n",
       " 3040.0,\n",
       " 3648.0,\n",
       " 3648.0,\n",
       " 4256.0,\n",
       " 4256.0,\n",
       " 4865.0,\n",
       " 4865.0,\n",
       " 5473.0,\n",
       " 5473.0,\n",
       " 6081.0,\n",
       " 6081.0,\n",
       " 6689.0,\n",
       " 6689.0,\n",
       " 7297.0,\n",
       " 7297.0,\n",
       " 7905.0,\n",
       " 7905.0,\n",
       " 8514.0,\n",
       " 8514.0,\n",
       " 9122.0,\n",
       " 9122.0,\n",
       " 9730.0,\n",
       " 9730.0,\n",
       " 10338.0,\n",
       " 10338.0,\n",
       " 10946.0,\n",
       " 10946.0,\n",
       " 11554.0,\n",
       " 11554.0,\n",
       " 12163.0,\n",
       " 12163.0]"
      ]
     },
     "execution_count": 38,
     "metadata": {},
     "output_type": "execute_result"
    }
   ],
   "source": [
    "train_floats"
   ]
  },
  {
   "cell_type": "code",
   "execution_count": 39,
   "metadata": {
    "collapsed": false
   },
   "outputs": [],
   "source": [
    "feather.write_dataframe(results_df, 'training.feather')"
   ]
  },
  {
   "cell_type": "code",
   "execution_count": 40,
   "metadata": {
    "collapsed": true
   },
   "outputs": [],
   "source": [
    "read_results = feather.read_dataframe('training.feather')"
   ]
  },
  {
   "cell_type": "code",
   "execution_count": 41,
   "metadata": {
    "collapsed": false
   },
   "outputs": [
    {
     "data": {
      "text/html": [
       "<div>\n",
       "<style>\n",
       "    .dataframe thead tr:only-child th {\n",
       "        text-align: right;\n",
       "    }\n",
       "\n",
       "    .dataframe thead th {\n",
       "        text-align: left;\n",
       "    }\n",
       "\n",
       "    .dataframe tbody tr th {\n",
       "        vertical-align: top;\n",
       "    }\n",
       "</style>\n",
       "<table border=\"1\" class=\"dataframe\">\n",
       "  <thead>\n",
       "    <tr style=\"text-align: right;\">\n",
       "      <th></th>\n",
       "      <th>season</th>\n",
       "      <th>set</th>\n",
       "      <th>rmse</th>\n",
       "      <th>rsquared</th>\n",
       "      <th>mape_result</th>\n",
       "      <th>fraction</th>\n",
       "      <th>train_points</th>\n",
       "      <th>test_points</th>\n",
       "    </tr>\n",
       "  </thead>\n",
       "  <tbody>\n",
       "    <tr>\n",
       "      <th>155</th>\n",
       "      <td>winter</td>\n",
       "      <td>test</td>\n",
       "      <td>2.022800</td>\n",
       "      <td>0.953341</td>\n",
       "      <td>3.716288</td>\n",
       "      <td>0.90</td>\n",
       "      <td>10946.0</td>\n",
       "      <td>4692.0</td>\n",
       "    </tr>\n",
       "    <tr>\n",
       "      <th>156</th>\n",
       "      <td>winter</td>\n",
       "      <td>train</td>\n",
       "      <td>0.749451</td>\n",
       "      <td>0.993532</td>\n",
       "      <td>1.373939</td>\n",
       "      <td>0.95</td>\n",
       "      <td>11554.0</td>\n",
       "      <td>4953.0</td>\n",
       "    </tr>\n",
       "    <tr>\n",
       "      <th>157</th>\n",
       "      <td>winter</td>\n",
       "      <td>test</td>\n",
       "      <td>2.011937</td>\n",
       "      <td>0.954810</td>\n",
       "      <td>3.760084</td>\n",
       "      <td>0.95</td>\n",
       "      <td>11554.0</td>\n",
       "      <td>4953.0</td>\n",
       "    </tr>\n",
       "    <tr>\n",
       "      <th>158</th>\n",
       "      <td>winter</td>\n",
       "      <td>train</td>\n",
       "      <td>0.737207</td>\n",
       "      <td>0.993840</td>\n",
       "      <td>1.345644</td>\n",
       "      <td>1.00</td>\n",
       "      <td>12163.0</td>\n",
       "      <td>5213.0</td>\n",
       "    </tr>\n",
       "    <tr>\n",
       "      <th>159</th>\n",
       "      <td>winter</td>\n",
       "      <td>test</td>\n",
       "      <td>1.975315</td>\n",
       "      <td>0.954659</td>\n",
       "      <td>3.623982</td>\n",
       "      <td>1.00</td>\n",
       "      <td>12163.0</td>\n",
       "      <td>5213.0</td>\n",
       "    </tr>\n",
       "  </tbody>\n",
       "</table>\n",
       "</div>"
      ],
      "text/plain": [
       "     season    set      rmse  rsquared  mape_result  fraction  train_points  \\\n",
       "155  winter   test  2.022800  0.953341     3.716288      0.90       10946.0   \n",
       "156  winter  train  0.749451  0.993532     1.373939      0.95       11554.0   \n",
       "157  winter   test  2.011937  0.954810     3.760084      0.95       11554.0   \n",
       "158  winter  train  0.737207  0.993840     1.345644      1.00       12163.0   \n",
       "159  winter   test  1.975315  0.954659     3.623982      1.00       12163.0   \n",
       "\n",
       "     test_points  \n",
       "155       4692.0  \n",
       "156       4953.0  \n",
       "157       4953.0  \n",
       "158       5213.0  \n",
       "159       5213.0  "
      ]
     },
     "execution_count": 41,
     "metadata": {},
     "output_type": "execute_result"
    }
   ],
   "source": [
    "read_results.tail()"
   ]
  },
  {
   "cell_type": "code",
   "execution_count": null,
   "metadata": {
    "collapsed": true
   },
   "outputs": [],
   "source": []
  }
 ],
 "metadata": {
  "hide_code_all_hidden": false,
  "kernelspec": {
   "display_name": "Python 3",
   "language": "python",
   "name": "python3"
  },
  "language_info": {
   "codemirror_mode": {
    "name": "ipython",
    "version": 3
   },
   "file_extension": ".py",
   "mimetype": "text/x-python",
   "name": "python",
   "nbconvert_exporter": "python",
   "pygments_lexer": "ipython3",
   "version": "3.6.0"
  }
 },
 "nbformat": 4,
 "nbformat_minor": 2
}
